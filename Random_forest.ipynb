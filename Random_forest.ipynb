{
  "nbformat": 4,
  "nbformat_minor": 0,
  "metadata": {
    "colab": {
      "name": "Random forest.ipynb",
      "provenance": [],
      "collapsed_sections": [],
      "authorship_tag": "ABX9TyOlThSntlBAHVZ7KIpHTt94",
      "include_colab_link": true
    },
    "kernelspec": {
      "name": "python3",
      "display_name": "Python 3"
    },
    "language_info": {
      "name": "python"
    }
  },
  "cells": [
    {
      "cell_type": "markdown",
      "metadata": {
        "id": "view-in-github",
        "colab_type": "text"
      },
      "source": [
        "<a href=\"https://colab.research.google.com/github/Arminsbss/Random_forest/blob/main/Random_forest.ipynb\" target=\"_parent\"><img src=\"https://colab.research.google.com/assets/colab-badge.svg\" alt=\"Open In Colab\"/></a>"
      ]
    },
    {
      "cell_type": "code",
      "execution_count": 1,
      "metadata": {
        "id": "e31A5fwqslxa"
      },
      "outputs": [],
      "source": [
        "'''====================Armin SabourMoghaddam ===================='''\n",
        "#==========Import sklearn Iris data(150*4)==========\n",
        "#==========We use 80% data for training(120) and 20% for test(30)==========\n",
        "from sklearn.datasets import load_iris\n",
        "import numpy as np\n",
        "Iris=np.array(load_iris().data) #150*4 array\n",
        "target=np.array(load_iris().target) #150 array\n",
        "Iris = np.column_stack((Iris, target)) #150*5\n",
        "Train_data=[]\n",
        "Train_data=np.append(Train_data,Iris[:40,:]).reshape(40,5)\n",
        "Train_data=np.append(Train_data,Iris[50:90,:]).reshape(80,5)\n",
        "Train_data=np.append(Train_data,Iris[100:140,:]).reshape(120,5)\n",
        "Train=Train_data[:,:4]\n",
        "Test_data=[]\n",
        "Test_data=np.append(Test_data,Iris[40:50,:]).reshape(10,5)\n",
        "Test_data=np.append(Test_data,Iris[90:100,:]).reshape(20,5)\n",
        "Test_data=np.append(Test_data,Iris[140:150,:]).reshape(30,5)\n",
        "Test=Test_data[:,:4]"
      ]
    },
    {
      "cell_type": "code",
      "source": [
        "#==========Ensemble Learning==========\n",
        "#==========Random data selection with replacement==========\n",
        "def Random_Train_Selection():\n",
        "  import random\n",
        "  Random_Train=[]\n",
        "  for i in range(120):\n",
        "    number = random.randint(0,119)\n",
        "    Random_Train=np.append(Random_Train,Train_data[number:number+1,:]).reshape(i+1,5)\n",
        "  return Random_Train\n",
        "# Train_new=np.delete(Train_data,3,1)\n",
        "# Train_new=Train[:,0:3]\n",
        "# Test_new=Test[:,0:3]\n",
        "# del Train_new\n",
        "# del Test_new\n",
        "len(Random_Train_Selection()[0])"
      ],
      "metadata": {
        "id": "AcbPSJa4M00w",
        "colab": {
          "base_uri": "https://localhost:8080/"
        },
        "outputId": "7c770a98-29be-4432-baf4-4e307d2dd5d0"
      },
      "execution_count": 82,
      "outputs": [
        {
          "output_type": "execute_result",
          "data": {
            "text/plain": [
              "5"
            ]
          },
          "metadata": {},
          "execution_count": 82
        }
      ]
    },
    {
      "cell_type": "code",
      "source": [
        "Matrix = [[0 for x in range(5)] for y in range(120)]\n",
        "import random\n",
        "features=[0,1,2,3]\n",
        "random_features=random.sample(features,3)\n",
        "# print(random_features)\n",
        "for i in random_features:\n",
        "  print(i)\n"
      ],
      "metadata": {
        "colab": {
          "base_uri": "https://localhost:8080/"
        },
        "id": "2QhuaHrdiZ5K",
        "outputId": "b5349ef8-a134-479f-d4bc-5d819abe68da"
      },
      "execution_count": 68,
      "outputs": [
        {
          "output_type": "stream",
          "name": "stdout",
          "text": [
            "3\n",
            "0\n",
            "2\n"
          ]
        }
      ]
    },
    {
      "cell_type": "code",
      "source": [
        "#==========Random n feature selection==========\n",
        "def Random_Feature_Selection(n,Random_Train):\n",
        "  import random\n",
        "  Train_new=[[0 for x in range(n+1)] for y in range(120)]\n",
        "  Random_Train_list=Random_Train.tolist()\n",
        "  features=[0,1,2,3]\n",
        "  random_features=random.sample(features,n)\n",
        "  random_features.append(len(Random_Train[0])-1)\n",
        "  for i in range(len(random_features)):\n",
        "    for j in range(120):\n",
        "      # print(j,i)\n",
        "      # print(i)\n",
        "      Train_new[j][i]=Random_Train_list[j][random_features[i]]\n",
        "  \n",
        "  return Train_new\n",
        "# print(len(Random_Feature_Selection(3,Train)[0]))\n",
        "for i in Random_Feature_Selection(4,Random_Train_Selection()):\n",
        "  print(i)\n",
        "# print(Random_Feature_Selection(3,Random_Train_Selection()))"
      ],
      "metadata": {
        "colab": {
          "base_uri": "https://localhost:8080/"
        },
        "id": "-c1BYG39O7ET",
        "outputId": "5052283f-b851-4e97-9315-b3a2146e617f"
      },
      "execution_count": 87,
      "outputs": [
        {
          "output_type": "stream",
          "name": "stdout",
          "text": [
            "[5.7, 4.4, 0.4, 1.5, 0.0]\n",
            "[6.7, 3.0, 1.7, 5.0, 1.0]\n",
            "[6.5, 3.0, 2.2, 5.8, 2.0]\n",
            "[6.3, 2.7, 1.8, 4.9, 2.0]\n",
            "[5.5, 3.5, 0.2, 1.3, 0.0]\n",
            "[4.9, 3.0, 0.2, 1.4, 0.0]\n",
            "[6.4, 3.2, 1.5, 4.5, 1.0]\n",
            "[5.9, 3.2, 1.8, 4.8, 1.0]\n",
            "[5.5, 2.5, 1.3, 4.0, 1.0]\n",
            "[5.4, 3.7, 0.2, 1.5, 0.0]\n",
            "[4.9, 2.5, 1.7, 4.5, 2.0]\n",
            "[7.2, 3.6, 2.5, 6.1, 2.0]\n",
            "[5.0, 2.0, 1.0, 3.5, 1.0]\n",
            "[5.1, 3.5, 0.2, 1.4, 0.0]\n",
            "[7.7, 2.6, 2.3, 6.9, 2.0]\n",
            "[6.3, 3.3, 1.6, 4.7, 1.0]\n",
            "[6.0, 3.0, 1.8, 4.8, 2.0]\n",
            "[6.7, 3.0, 1.7, 5.0, 1.0]\n",
            "[6.8, 3.0, 2.1, 5.5, 2.0]\n",
            "[5.1, 3.3, 0.5, 1.7, 0.0]\n",
            "[6.0, 2.7, 1.6, 5.1, 1.0]\n",
            "[7.1, 3.0, 2.1, 5.9, 2.0]\n",
            "[4.6, 3.4, 0.3, 1.4, 0.0]\n",
            "[5.1, 3.7, 0.4, 1.5, 0.0]\n",
            "[5.2, 3.4, 0.2, 1.4, 0.0]\n",
            "[5.1, 3.4, 0.2, 1.5, 0.0]\n",
            "[5.1, 3.8, 0.3, 1.5, 0.0]\n",
            "[4.4, 3.0, 0.2, 1.3, 0.0]\n",
            "[6.1, 2.9, 1.4, 4.7, 1.0]\n",
            "[6.6, 3.0, 1.4, 4.4, 1.0]\n",
            "[6.4, 2.8, 2.2, 5.6, 2.0]\n",
            "[4.4, 3.0, 0.2, 1.3, 0.0]\n",
            "[4.8, 3.4, 0.2, 1.6, 0.0]\n",
            "[7.9, 3.8, 2.0, 6.4, 2.0]\n",
            "[4.7, 3.2, 0.2, 1.3, 0.0]\n",
            "[5.0, 3.2, 0.2, 1.2, 0.0]\n",
            "[5.2, 3.4, 0.2, 1.4, 0.0]\n",
            "[5.0, 3.4, 0.2, 1.5, 0.0]\n",
            "[6.3, 2.7, 1.8, 4.9, 2.0]\n",
            "[5.1, 3.5, 0.2, 1.4, 0.0]\n",
            "[5.6, 2.9, 1.3, 3.6, 1.0]\n",
            "[5.5, 3.5, 0.2, 1.3, 0.0]\n",
            "[4.6, 3.6, 0.2, 1.0, 0.0]\n",
            "[6.4, 3.2, 2.3, 5.3, 2.0]\n",
            "[5.6, 2.9, 1.3, 3.6, 1.0]\n",
            "[6.0, 2.9, 1.5, 4.5, 1.0]\n",
            "[4.8, 3.0, 0.1, 1.4, 0.0]\n",
            "[7.2, 3.2, 1.8, 6.0, 2.0]\n",
            "[5.1, 3.7, 0.4, 1.5, 0.0]\n",
            "[6.6, 2.9, 1.3, 4.6, 1.0]\n",
            "[5.6, 2.8, 2.0, 4.9, 2.0]\n",
            "[6.1, 3.0, 1.8, 4.9, 2.0]\n",
            "[6.6, 3.0, 1.4, 4.4, 1.0]\n",
            "[5.2, 2.7, 1.4, 3.9, 1.0]\n",
            "[6.5, 3.0, 1.8, 5.5, 2.0]\n",
            "[5.5, 3.5, 0.2, 1.3, 0.0]\n",
            "[4.8, 3.4, 0.2, 1.6, 0.0]\n",
            "[6.7, 3.3, 2.1, 5.7, 2.0]\n",
            "[5.4, 3.9, 0.4, 1.3, 0.0]\n",
            "[4.4, 2.9, 0.2, 1.4, 0.0]\n",
            "[4.6, 3.6, 0.2, 1.0, 0.0]\n",
            "[7.2, 3.0, 1.6, 5.8, 2.0]\n",
            "[5.5, 2.5, 1.3, 4.0, 1.0]\n",
            "[6.4, 2.9, 1.3, 4.3, 1.0]\n",
            "[5.5, 2.4, 1.0, 3.7, 1.0]\n",
            "[5.1, 3.5, 0.2, 1.4, 0.0]\n",
            "[5.4, 3.7, 0.2, 1.5, 0.0]\n",
            "[5.0, 3.6, 0.2, 1.4, 0.0]\n",
            "[5.2, 4.1, 0.1, 1.5, 0.0]\n",
            "[6.8, 2.8, 1.4, 4.8, 1.0]\n",
            "[5.6, 2.9, 1.3, 3.6, 1.0]\n",
            "[6.2, 2.8, 1.8, 4.8, 2.0]\n",
            "[6.8, 3.0, 2.1, 5.5, 2.0]\n",
            "[5.1, 3.3, 0.5, 1.7, 0.0]\n",
            "[4.7, 3.2, 0.2, 1.6, 0.0]\n",
            "[6.3, 2.8, 1.5, 5.1, 2.0]\n",
            "[5.8, 2.8, 2.4, 5.1, 2.0]\n",
            "[6.9, 3.1, 2.1, 5.4, 2.0]\n",
            "[6.9, 3.2, 2.3, 5.7, 2.0]\n",
            "[4.9, 3.1, 0.2, 1.5, 0.0]\n",
            "[5.8, 2.7, 1.9, 5.1, 2.0]\n",
            "[4.7, 3.2, 0.2, 1.3, 0.0]\n",
            "[4.9, 3.1, 0.2, 1.5, 0.0]\n",
            "[5.0, 2.0, 1.0, 3.5, 1.0]\n",
            "[6.3, 3.4, 2.4, 5.6, 2.0]\n",
            "[7.7, 3.0, 2.3, 6.1, 2.0]\n",
            "[6.0, 2.7, 1.6, 5.1, 1.0]\n",
            "[6.5, 3.0, 2.2, 5.8, 2.0]\n",
            "[6.1, 2.9, 1.4, 4.7, 1.0]\n",
            "[5.9, 3.2, 1.8, 4.8, 1.0]\n",
            "[7.2, 3.0, 1.6, 5.8, 2.0]\n",
            "[5.9, 3.2, 1.8, 4.8, 1.0]\n",
            "[5.7, 2.8, 1.3, 4.5, 1.0]\n",
            "[6.7, 3.3, 2.1, 5.7, 2.0]\n",
            "[6.0, 2.2, 1.0, 4.0, 1.0]\n",
            "[7.9, 3.8, 2.0, 6.4, 2.0]\n",
            "[5.6, 2.5, 1.1, 3.9, 1.0]\n",
            "[5.7, 4.4, 0.4, 1.5, 0.0]\n",
            "[6.0, 2.7, 1.6, 5.1, 1.0]\n",
            "[4.9, 3.6, 0.1, 1.4, 0.0]\n",
            "[4.4, 3.0, 0.2, 1.3, 0.0]\n",
            "[7.2, 3.0, 1.6, 5.8, 2.0]\n",
            "[4.8, 3.4, 0.2, 1.9, 0.0]\n",
            "[5.8, 2.7, 1.0, 4.1, 1.0]\n",
            "[5.8, 2.7, 1.0, 4.1, 1.0]\n",
            "[4.6, 3.4, 0.3, 1.4, 0.0]\n",
            "[4.7, 3.2, 0.2, 1.6, 0.0]\n",
            "[4.9, 2.5, 1.7, 4.5, 2.0]\n",
            "[5.1, 3.5, 0.3, 1.4, 0.0]\n",
            "[6.7, 3.1, 1.4, 4.4, 1.0]\n",
            "[5.2, 3.5, 0.2, 1.5, 0.0]\n",
            "[6.6, 2.9, 1.3, 4.6, 1.0]\n",
            "[4.9, 3.1, 0.2, 1.5, 0.0]\n",
            "[7.0, 3.2, 1.4, 4.7, 1.0]\n",
            "[5.4, 3.0, 1.5, 4.5, 1.0]\n",
            "[4.6, 3.6, 0.2, 1.0, 0.0]\n",
            "[5.7, 4.4, 0.4, 1.5, 0.0]\n",
            "[4.8, 3.4, 0.2, 1.6, 0.0]\n",
            "[5.0, 3.2, 0.2, 1.2, 0.0]\n",
            "[6.4, 2.8, 2.2, 5.6, 2.0]\n"
          ]
        }
      ]
    },
    {
      "cell_type": "code",
      "source": [
        "from sklearn.tree import DecisionTreeClassifier\n",
        "cal=DecisionTreeClassifier()\n",
        "cal=cal.fit(Train_new,Train_data[:,-1])\n",
        "cal.get_params()"
      ],
      "metadata": {
        "colab": {
          "base_uri": "https://localhost:8080/"
        },
        "id": "u60jAiDFyzbQ",
        "outputId": "e19fdcad-80ef-4631-b4ce-4b9186e137be"
      },
      "execution_count": null,
      "outputs": [
        {
          "output_type": "execute_result",
          "data": {
            "text/plain": [
              "{'ccp_alpha': 0.0,\n",
              " 'class_weight': None,\n",
              " 'criterion': 'gini',\n",
              " 'max_depth': None,\n",
              " 'max_features': None,\n",
              " 'max_leaf_nodes': None,\n",
              " 'min_impurity_decrease': 0.0,\n",
              " 'min_samples_leaf': 1,\n",
              " 'min_samples_split': 2,\n",
              " 'min_weight_fraction_leaf': 0.0,\n",
              " 'random_state': None,\n",
              " 'splitter': 'best'}"
            ]
          },
          "metadata": {},
          "execution_count": 73
        }
      ]
    },
    {
      "cell_type": "code",
      "source": [
        "predictions=cal.predict(Test_new)\n",
        "# cal.predict_proba(Test)\n",
        "print(predictions)"
      ],
      "metadata": {
        "colab": {
          "base_uri": "https://localhost:8080/"
        },
        "id": "eQXmkxhCDKwu",
        "outputId": "9e41af59-155a-4d6f-cc8b-bfb903cb6719"
      },
      "execution_count": null,
      "outputs": [
        {
          "output_type": "stream",
          "name": "stdout",
          "text": [
            "[0. 0. 0. 0. 0. 0. 0. 0. 0. 0. 1. 1. 1. 1. 1. 1. 1. 1. 1. 1. 2. 1. 2. 2.\n",
            " 2. 1. 1. 2. 2. 1.]\n"
          ]
        }
      ]
    },
    {
      "cell_type": "code",
      "source": [
        "#==========Run on test data==========\n",
        "counter=0\n",
        "for i in range(len(predictions)):\n",
        "  if i<10:\n",
        "    if predictions[i]!=0:\n",
        "      counter+=1\n",
        "  elif i>9 and i<20:\n",
        "    if predictions[i]!=1:\n",
        "      counter+=1\n",
        "  else:\n",
        "    if predictions[i]!=2:\n",
        "      counter+=1\n",
        "print(counter)"
      ],
      "metadata": {
        "colab": {
          "base_uri": "https://localhost:8080/"
        },
        "id": "HaDjCwxxD1J5",
        "outputId": "844e9299-3c0a-411e-d9b1-417f78c0db27"
      },
      "execution_count": null,
      "outputs": [
        {
          "output_type": "stream",
          "name": "stdout",
          "text": [
            "4\n"
          ]
        }
      ]
    },
    {
      "cell_type": "code",
      "source": [
        "# import pandas as pd\n",
        "# dd=pd.DataFrame(cal.feature_importances_,index=feature)"
      ],
      "metadata": {
        "id": "5iTFoo0cEg5J"
      },
      "execution_count": null,
      "outputs": []
    }
  ]
}
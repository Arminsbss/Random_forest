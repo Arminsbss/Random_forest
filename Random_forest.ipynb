{
  "nbformat": 4,
  "nbformat_minor": 0,
  "metadata": {
    "colab": {
      "name": "Random forest.ipynb",
      "provenance": [],
      "collapsed_sections": [],
      "authorship_tag": "ABX9TyO4yyVfhGYjLrVdexaJzq0c",
      "include_colab_link": true
    },
    "kernelspec": {
      "name": "python3",
      "display_name": "Python 3"
    },
    "language_info": {
      "name": "python"
    }
  },
  "cells": [
    {
      "cell_type": "markdown",
      "metadata": {
        "id": "view-in-github",
        "colab_type": "text"
      },
      "source": [
        "<a href=\"https://colab.research.google.com/github/Arminsbss/Random_forest/blob/main/Random_forest.ipynb\" target=\"_parent\"><img src=\"https://colab.research.google.com/assets/colab-badge.svg\" alt=\"Open In Colab\"/></a>"
      ]
    },
    {
      "cell_type": "code",
      "execution_count": 1,
      "metadata": {
        "id": "e31A5fwqslxa"
      },
      "outputs": [],
      "source": [
        "'''====================Armin SabourMoghaddam ===================='''\n",
        "#==========Import sklearn Iris data(150*4)==========\n",
        "#==========We use 80% data for training(120) and 20% for test(30)==========\n",
        "from sklearn.datasets import load_iris\n",
        "import numpy as np\n",
        "Iris=np.array(load_iris().data) #150*4 array\n",
        "target=np.array(load_iris().target) #150 array\n",
        "Iris = np.column_stack((Iris, target)) #150*5\n",
        "Train_data=[]\n",
        "Train_data=np.append(Train_data,Iris[:40,:]).reshape(40,5)\n",
        "Train_data=np.append(Train_data,Iris[50:90,:]).reshape(80,5)\n",
        "Train_data=np.append(Train_data,Iris[100:140,:]).reshape(120,5)\n",
        "Train=Train_data[:,:4]\n",
        "Test_data=[]\n",
        "Test_data=np.append(Test_data,Iris[40:50,:]).reshape(10,5)\n",
        "Test_data=np.append(Test_data,Iris[90:100,:]).reshape(20,5)\n",
        "Test_data=np.append(Test_data,Iris[140:150,:]).reshape(30,5)\n",
        "Test=Test_data[:,:4]"
      ]
    },
    {
      "cell_type": "code",
      "source": [
        "#==========Ensemble Learning==========\n",
        "#==========Random data selection with replacement==========\n",
        "def Random_Train_Selection():\n",
        "  import random\n",
        "  Random_Train=[]\n",
        "  for i in range(120):\n",
        "    number = random.randint(0,119)\n",
        "    Random_Train=np.append(Random_Train,Train_data[number:number+1,:]).reshape(i+1,5)\n",
        "  return Random_Train\n",
        "# Train_new=np.delete(Train_data,3,1)\n",
        "# Train_new=Train[:,0:3]\n",
        "# Test_new=Test[:,0:3]\n",
        "# del Train_new\n",
        "# del Test_new\n",
        "len(Random_Train_Selection()[0])"
      ],
      "metadata": {
        "id": "AcbPSJa4M00w",
        "colab": {
          "base_uri": "https://localhost:8080/"
        },
        "outputId": "c6712e31-b3cc-431c-cfb8-2c917f2acc86"
      },
      "execution_count": 2,
      "outputs": [
        {
          "output_type": "execute_result",
          "data": {
            "text/plain": [
              "5"
            ]
          },
          "metadata": {},
          "execution_count": 2
        }
      ]
    },
    {
      "cell_type": "code",
      "source": [
        "Matrix = [[0 for x in range(5)] for y in range(120)]\n",
        "import random\n",
        "features=[0,1,2,3]\n",
        "random_features=random.sample(features,3)\n",
        "for i in random_features:\n",
        "  print(i)\n"
      ],
      "metadata": {
        "colab": {
          "base_uri": "https://localhost:8080/"
        },
        "id": "2QhuaHrdiZ5K",
        "outputId": "b5349ef8-a134-479f-d4bc-5d819abe68da"
      },
      "execution_count": 68,
      "outputs": [
        {
          "output_type": "stream",
          "name": "stdout",
          "text": [
            "3\n",
            "0\n",
            "2\n"
          ]
        }
      ]
    },
    {
      "cell_type": "code",
      "source": [
        "#==========Random n feature selection==========\n",
        "def Random_Feature_Selection(n,Random_Train):\n",
        "  import random\n",
        "  Train_new=[[0 for x in range(n+1)] for y in range(120)]\n",
        "  Random_Train_list=Random_Train.tolist()\n",
        "  features=[0,1,2,3]\n",
        "  random_features=random.sample(features,n)\n",
        "  random_features.append(len(Random_Train[0])-1)\n",
        "  for i in range(len(random_features)):\n",
        "    for j in range(120):\n",
        "      Train_new[j][i]=Random_Train_list[j][random_features[i]]\n",
        "  return Train_new\n",
        "for i in Random_Feature_Selection(4,Random_Train_Selection()):\n",
        "  print(i)\n",
        "# print(Random_Feature_Selection(3,Random_Train_Selection()))"
      ],
      "metadata": {
        "id": "-c1BYG39O7ET"
      },
      "execution_count": null,
      "outputs": []
    },
    {
      "cell_type": "code",
      "source": [
        "import numpy as np\n",
        "Train_new=[[0 for x in range(3+1)] for y in range(120)]\n",
        "j=np.array(Train_new)\n",
        "print(j[:,-1])"
      ],
      "metadata": {
        "id": "9CM7Ed1GmRtZ"
      },
      "execution_count": null,
      "outputs": []
    },
    {
      "cell_type": "code",
      "source": [
        "#==========Decision tree==========\n",
        "from sklearn.tree import DecisionTreeClassifier\n",
        "def Decision_Tree_Classifier(Train_new,Test_new):\n",
        "  cal=DecisionTreeClassifier()\n",
        "  Train_new_numpy=np.array(Train_new)\n",
        "  cal=cal.fit(Train_new_numpy,Train_new_numpy[:,-1])\n",
        "  # cal.get_params()\n",
        "  predictions=cal.predict(Test_new)\n",
        "  return predictions\n",
        "  # return predictions,cal\n",
        "print(Decision_Tree_Classifier(Random_Feature_Selection(2,Random_Train_Selection()),Test_data[:,0:-2]))\n",
        "# print(b.get_params())"
      ],
      "metadata": {
        "colab": {
          "base_uri": "https://localhost:8080/"
        },
        "id": "u60jAiDFyzbQ",
        "outputId": "4eb4c2cc-7585-42f1-93f3-42099fce7099"
      },
      "execution_count": 35,
      "outputs": [
        {
          "output_type": "stream",
          "name": "stdout",
          "text": [
            "[0. 0. 0. 0. 0. 0. 0. 0. 0. 0. 1. 1. 1. 1. 1. 1. 1. 1. 1. 1. 2. 2. 2. 2.\n",
            " 2. 2. 2. 2. 2. 2.]\n"
          ]
        }
      ]
    },
    {
      "cell_type": "code",
      "source": [
        "#==========Random forest==========\n",
        "def Random_Forest(num_of_trees,num_of_features):\n",
        "  prediction_matrix=[]\n",
        "  for i in range(num_of_trees):\n",
        "    if num_of_features==4:\n",
        "      prediction_matrix.append([Decision_Tree_Classifier(Random_Feature_Selection(num_of_features,Random_Train_Selection()),Test_data)])\n",
        "    else:\n",
        "      prediction_matrix.append([Decision_Tree_Classifier(Random_Feature_Selection(num_of_features,Random_Train_Selection()),Test_data[:,0:-(4-num_of_features)])])\n",
        "  return prediction_matrix"
      ],
      "metadata": {
        "id": "FC66YeuJrbL3"
      },
      "execution_count": 39,
      "outputs": []
    },
    {
      "cell_type": "code",
      "source": [
        "#==========assignments==========\n",
        "num_of_trees=2\n",
        "num_of_features=4\n",
        "num_of_trees=int(input(\"please enter the number of trees:(it must be odd number)\"))\n",
        "num_of_features=int(input(\"please enter the number of features:\"))"
      ],
      "metadata": {
        "colab": {
          "base_uri": "https://localhost:8080/"
        },
        "id": "GuvGHsPE1dKz",
        "outputId": "2156a375-c4a4-47d9-e5fd-db364d73b61f"
      },
      "execution_count": 61,
      "outputs": [
        {
          "name": "stdout",
          "output_type": "stream",
          "text": [
            "please enter the number of trees:(it must be odd number)3\n",
            "please enter the number of features:4\n"
          ]
        }
      ]
    },
    {
      "cell_type": "code",
      "source": [
        "#==========Voting==========\n",
        "import numpy as np\n",
        "Forest=np.array(Random_Forest(num_of_trees,num_of_features))\n",
        "array=[]\n",
        "votes=[]\n",
        "print(Forest)\n",
        "print(\"------------------\")\n",
        "for j in range(30):\n",
        "  for i in range(len(Forest)):\n",
        "    array.append(Forest[i][0][j])\n",
        "  array=np.array(array)\n",
        "  count0 = np.count_nonzero(array == 0)\n",
        "  count1 = np.count_nonzero(array == 1)\n",
        "  count2 = np.count_nonzero(array == 2)\n",
        "  index_max=max(range(len([count0,count1,count2])), key=[count0,count1,count2].__getitem__)\n",
        "  votes.append(index_max)\n",
        "  array=[]\n",
        "  print(count0,count1,count2)\n",
        "print(votes)"
      ],
      "metadata": {
        "colab": {
          "base_uri": "https://localhost:8080/"
        },
        "id": "8N7UHhYYvQth",
        "outputId": "21a79c20-952b-464e-8d56-c387e29c9786"
      },
      "execution_count": 59,
      "outputs": [
        {
          "output_type": "stream",
          "name": "stdout",
          "text": [
            "[[[0. 0. 0. 0. 0. 0. 0. 0. 0. 0. 1. 1. 1. 1. 1. 1. 1. 1. 1. 1. 2. 2. 2.\n",
            "   2. 2. 2. 2. 2. 2. 2.]]\n",
            "\n",
            " [[1. 1. 1. 1. 1. 1. 1. 1. 1. 1. 1. 1. 1. 1. 1. 1. 1. 1. 1. 1. 2. 2. 2.\n",
            "   2. 2. 2. 2. 2. 2. 2.]]\n",
            "\n",
            " [[0. 0. 0. 0. 0. 0. 0. 0. 0. 0. 1. 1. 1. 1. 1. 1. 1. 1. 1. 1. 2. 2. 2.\n",
            "   2. 2. 2. 2. 2. 2. 2.]]]\n",
            "------------------\n",
            "2 1 0\n",
            "2 1 0\n",
            "2 1 0\n",
            "2 1 0\n",
            "2 1 0\n",
            "2 1 0\n",
            "2 1 0\n",
            "2 1 0\n",
            "2 1 0\n",
            "2 1 0\n",
            "0 3 0\n",
            "0 3 0\n",
            "0 3 0\n",
            "0 3 0\n",
            "0 3 0\n",
            "0 3 0\n",
            "0 3 0\n",
            "0 3 0\n",
            "0 3 0\n",
            "0 3 0\n",
            "0 0 3\n",
            "0 0 3\n",
            "0 0 3\n",
            "0 0 3\n",
            "0 0 3\n",
            "0 0 3\n",
            "0 0 3\n",
            "0 0 3\n",
            "0 0 3\n",
            "0 0 3\n",
            "[0, 0, 0, 0, 0, 0, 0, 0, 0, 0, 1, 1, 1, 1, 1, 1, 1, 1, 1, 1, 2, 2, 2, 2, 2, 2, 2, 2, 2, 2]\n"
          ]
        }
      ]
    },
    {
      "cell_type": "code",
      "source": [
        "#==========Run on test data==========\n",
        "counter=0\n",
        "for i in range(len(votes)):\n",
        "  if i<10:\n",
        "    if votes[i]!=0:\n",
        "      counter+=1\n",
        "  elif i>9 and i<20:\n",
        "    if votes[i]!=1:\n",
        "      counter+=1\n",
        "  else:\n",
        "    if votes[i]!=2:\n",
        "      counter+=1\n",
        "print(counter)"
      ],
      "metadata": {
        "colab": {
          "base_uri": "https://localhost:8080/"
        },
        "id": "HaDjCwxxD1J5",
        "outputId": "8d8960b5-fc1e-45b0-e68d-5cf9c5d38480"
      },
      "execution_count": 60,
      "outputs": [
        {
          "output_type": "stream",
          "name": "stdout",
          "text": [
            "0\n"
          ]
        }
      ]
    }
  ]
}